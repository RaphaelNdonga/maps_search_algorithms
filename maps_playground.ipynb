{
 "cells": [
  {
   "cell_type": "code",
   "execution_count": 43,
   "id": "0cfedfc4",
   "metadata": {},
   "outputs": [],
   "source": [
    "import requests\n",
    "from pprint import pprint"
   ]
  },
  {
   "cell_type": "code",
   "execution_count": 44,
   "id": "ed760d8c",
   "metadata": {},
   "outputs": [],
   "source": [
    "BASE_URL = 'https://nominatim.openstreetmap.org/search?format=json'"
   ]
  },
  {
   "cell_type": "code",
   "execution_count": 45,
   "id": "ec512210",
   "metadata": {},
   "outputs": [
    {
     "name": "stdout",
     "output_type": "stream",
     "text": [
      "[{'boundingbox': ['-1.4180146872727',\n",
      "                  '-1.0980146872727',\n",
      "                  '36.679471896364',\n",
      "                  '36.999471896364'],\n",
      "  'class': 'place',\n",
      "  'display_name': 'Nairobi, 00100, Kenya',\n",
      "  'importance': 0.435,\n",
      "  'lat': '-1.2580146872727274',\n",
      "  'licence': 'Data © OpenStreetMap contributors, ODbL 1.0. '\n",
      "             'https://osm.org/copyright',\n",
      "  'lon': '36.839471896363634',\n",
      "  'place_id': 301502201,\n",
      "  'type': 'postcode'}]\n"
     ]
    }
   ],
   "source": [
    "zipcode = '00100'\n",
    "response = requests.get(f\"{BASE_URL}&postalcode={zipcode}&country=kenya\")\n",
    "data = response.json()\n",
    "pprint(data)\n",
    "nai_latitude = data[0].get('lat')\n",
    "nai_longitude = data[0].get('lon')"
   ]
  },
  {
   "cell_type": "code",
   "execution_count": 46,
   "id": "ca9f9e61",
   "metadata": {
    "scrolled": true
   },
   "outputs": [
    {
     "name": "stdout",
     "output_type": "stream",
     "text": [
      "[{'boundingbox': ['-4.2181936043478',\n",
      "                  '-3.8981936043478',\n",
      "                  '39.513144893478',\n",
      "                  '39.833144893478'],\n",
      "  'class': 'place',\n",
      "  'display_name': 'Mombasa, Coastal Kenya, 80100, Kenya',\n",
      "  'importance': 0.435,\n",
      "  'lat': '-4.058193604347826',\n",
      "  'licence': 'Data © OpenStreetMap contributors, ODbL 1.0. '\n",
      "             'https://osm.org/copyright',\n",
      "  'lon': '39.67314489347826',\n",
      "  'place_id': 301504443,\n",
      "  'type': 'postcode'}]\n"
     ]
    }
   ],
   "source": [
    "zipcode = '80100'\n",
    "response = requests.get(f\"{BASE_URL}&postalcode={zipcode}&country=kenya\")\n",
    "data = response.json()\n",
    "pprint(data)\n",
    "mom_latitude = data[0].get('lat')\n",
    "mom_longitude = data[0].get('lon')"
   ]
  },
  {
   "cell_type": "code",
   "execution_count": 47,
   "id": "8297c16c",
   "metadata": {},
   "outputs": [
    {
     "name": "stdout",
     "output_type": "stream",
     "text": [
      "[{'boundingbox': ['-0.24419422',\n",
      "                  '0.07580578',\n",
      "                  '34.609387053333',\n",
      "                  '34.929387053333'],\n",
      "  'class': 'place',\n",
      "  'display_name': 'Kisumu, Nyanza, 40100, Kenya',\n",
      "  'importance': 0.435,\n",
      "  'lat': '-0.08419422',\n",
      "  'licence': 'Data © OpenStreetMap contributors, ODbL 1.0. '\n",
      "             'https://osm.org/copyright',\n",
      "  'lon': '34.76938705333334',\n",
      "  'place_id': 301504412,\n",
      "  'type': 'postcode'}]\n"
     ]
    }
   ],
   "source": [
    "zipcode = '40100'\n",
    "response = requests.get(f\"{BASE_URL}&postalcode={zipcode}&country=kenya\")\n",
    "data = response.json()\n",
    "pprint(data)\n",
    "kis_latitude = data[0].get('lat')\n",
    "kis_longitude = data[0].get('lon')"
   ]
  },
  {
   "cell_type": "code",
   "execution_count": 48,
   "id": "62ff7161",
   "metadata": {},
   "outputs": [
    {
     "name": "stdout",
     "output_type": "stream",
     "text": [
      "[{'boundingbox': ['0.35486799117647',\n",
      "                  '0.67486799117647',\n",
      "                  '35.116785073529',\n",
      "                  '35.436785073529'],\n",
      "  'class': 'place',\n",
      "  'display_name': 'Uasin Gishu, 30100, Kenya',\n",
      "  'importance': 0.435,\n",
      "  'lat': '0.5148679911764705',\n",
      "  'licence': 'Data © OpenStreetMap contributors, ODbL 1.0. '\n",
      "             'https://osm.org/copyright',\n",
      "  'lon': '35.27678507352941',\n",
      "  'place_id': 301504405,\n",
      "  'type': 'postcode'}]\n"
     ]
    }
   ],
   "source": [
    "zipcode = '30100'\n",
    "response = requests.get(f\"{BASE_URL}&postalcode={zipcode}&country=kenya\")\n",
    "data = response.json()\n",
    "pprint(data)\n",
    "eld_latitude = data[0].get('lat')\n",
    "eld_longitude = data[0].get('lon')"
   ]
  },
  {
   "cell_type": "code",
   "execution_count": 49,
   "id": "b1e4fa25",
   "metadata": {},
   "outputs": [
    {
     "name": "stdout",
     "output_type": "stream",
     "text": [
      "[{'boundingbox': ['-0.50552775', '-0.18552775', '35.9821234', '36.3021234'],\n",
      "  'class': 'place',\n",
      "  'display_name': 'Nakuru, 20100, Kenya',\n",
      "  'importance': 0.435,\n",
      "  'lat': '-0.34552775',\n",
      "  'licence': 'Data © OpenStreetMap contributors, ODbL 1.0. '\n",
      "             'https://osm.org/copyright',\n",
      "  'lon': '36.1421234',\n",
      "  'place_id': 301504392,\n",
      "  'type': 'postcode'}]\n"
     ]
    }
   ],
   "source": [
    "zipcode = '20100'\n",
    "response = requests.get(f\"{BASE_URL}&postalcode={zipcode}&country=kenya\")\n",
    "data = response.json()\n",
    "pprint(data)\n",
    "nak_latitude = data[0].get('lat')\n",
    "nak_longitude = data[0].get('lon')"
   ]
  },
  {
   "cell_type": "code",
   "execution_count": 50,
   "id": "61ce4650",
   "metadata": {},
   "outputs": [
    {
     "name": "stdout",
     "output_type": "stream",
     "text": [
      "[{'boundingbox': ['-1.21904065', '-0.89904065', '36.9454561', '37.2654561'],\n",
      "  'class': 'place',\n",
      "  'display_name': 'Thika, Kiambu, Central Kenya, 01000, Kenya',\n",
      "  'importance': 0.435,\n",
      "  'lat': '-1.05904065',\n",
      "  'licence': 'Data © OpenStreetMap contributors, ODbL 1.0. '\n",
      "             'https://osm.org/copyright',\n",
      "  'lon': '37.1054561',\n",
      "  'place_id': 301504381,\n",
      "  'type': 'postcode'}]\n"
     ]
    }
   ],
   "source": [
    "zipcode = '01000'\n",
    "response = requests.get(f\"{BASE_URL}&postalcode={zipcode}&country=kenya\")\n",
    "data = response.json()\n",
    "pprint(data)\n",
    "thik_latitude = data[0].get('lat')\n",
    "thik_longitude = data[0].get('lon')"
   ]
  },
  {
   "cell_type": "code",
   "execution_count": 51,
   "id": "25743670",
   "metadata": {},
   "outputs": [
    {
     "name": "stdout",
     "output_type": "stream",
     "text": [
      "[{'boundingbox': ['-3.3915438', '-3.0715438', '39.942555', '40.262555'],\n",
      "  'class': 'place',\n",
      "  'display_name': 'Malindi, Kilifi, Coastal Kenya, 80200, Kenya',\n",
      "  'importance': 0.435,\n",
      "  'lat': '-3.2315438',\n",
      "  'licence': 'Data © OpenStreetMap contributors, ODbL 1.0. '\n",
      "             'https://osm.org/copyright',\n",
      "  'lon': '40.102555',\n",
      "  'place_id': 301504446,\n",
      "  'type': 'postcode'}]\n"
     ]
    }
   ],
   "source": [
    "zipcode = '80200'\n",
    "response = requests.get(f\"{BASE_URL}&postalcode={zipcode}&country=kenya\")\n",
    "data = response.json()\n",
    "pprint(data)\n",
    "mal_latitude = data[0].get('lat')\n",
    "mal_longitude = data[0].get('lon')"
   ]
  },
  {
   "cell_type": "code",
   "execution_count": 52,
   "id": "b16dcea5",
   "metadata": {},
   "outputs": [
    {
     "name": "stdout",
     "output_type": "stream",
     "text": [
      "[{'boundingbox': ['-0.57802212307692',\n",
      "                  '-0.25802212307692',\n",
      "                  '36.808389223077',\n",
      "                  '37.128389223077'],\n",
      "  'class': 'place',\n",
      "  'display_name': 'Nyeri, Central Kenya, 10100, Kenya',\n",
      "  'importance': 0.435,\n",
      "  'lat': '-0.4180221230769231',\n",
      "  'licence': 'Data © OpenStreetMap contributors, ODbL 1.0. '\n",
      "             'https://osm.org/copyright',\n",
      "  'lon': '36.96838922307692',\n",
      "  'place_id': 301504384,\n",
      "  'type': 'postcode'}]\n"
     ]
    }
   ],
   "source": [
    "zipcode = '10100'\n",
    "response = requests.get(f\"{BASE_URL}&postalcode={zipcode}&country=kenya\")\n",
    "data = response.json()\n",
    "pprint(data)\n",
    "nye_latitude = data[0].get('lat')\n",
    "nye_longitude = data[0].get('lon')"
   ]
  },
  {
   "cell_type": "code",
   "execution_count": 53,
   "id": "b1d9919a",
   "metadata": {},
   "outputs": [
    {
     "name": "stdout",
     "output_type": "stream",
     "text": [
      "[{'boundingbox': ['-0.1153109', '0.2046891', '37.4879828', '37.8079828'],\n",
      "  'class': 'place',\n",
      "  'display_name': 'Meru, East Kenya, 60200, Kenya',\n",
      "  'importance': 0.435,\n",
      "  'lat': '0.0446891',\n",
      "  'licence': 'Data © OpenStreetMap contributors, ODbL 1.0. '\n",
      "             'https://osm.org/copyright',\n",
      "  'lon': '37.6479828',\n",
      "  'place_id': 301504435,\n",
      "  'type': 'postcode'}]\n"
     ]
    }
   ],
   "source": [
    "zipcode = '60200'\n",
    "response = requests.get(f\"{BASE_URL}&postalcode={zipcode}&country=kenya\")\n",
    "data = response.json()\n",
    "pprint(data)\n",
    "mer_latitude = data[0].get('lat')\n",
    "mer_longitude = data[0].get('lon')"
   ]
  },
  {
   "cell_type": "code",
   "execution_count": 54,
   "id": "5c54d4a3",
   "metadata": {},
   "outputs": [
    {
     "name": "stdout",
     "output_type": "stream",
     "text": [
      "[{'boundingbox': ['-0.13489263333333',\n",
      "                  '0.18510736666667',\n",
      "                  '36.917327133333',\n",
      "                  '37.237327133333'],\n",
      "  'class': 'place',\n",
      "  'display_name': 'Laikipia, 10400, Kenya',\n",
      "  'importance': 0.435,\n",
      "  'lat': '0.025107366666666665',\n",
      "  'licence': 'Data © OpenStreetMap contributors, ODbL 1.0. '\n",
      "             'https://osm.org/copyright',\n",
      "  'lon': '37.077327133333334',\n",
      "  'place_id': 301504390,\n",
      "  'type': 'postcode'}]\n"
     ]
    }
   ],
   "source": [
    "zipcode = '10400'\n",
    "response = requests.get(f\"{BASE_URL}&postalcode={zipcode}&country=kenya\")\n",
    "data = response.json()\n",
    "pprint(data)\n",
    "lai_latitude = data[0].get('lat')\n",
    "lai_longitude = data[0].get('lon')"
   ]
  },
  {
   "cell_type": "code",
   "execution_count": 55,
   "id": "92921823",
   "metadata": {},
   "outputs": [],
   "source": [
    "import folium"
   ]
  },
  {
   "cell_type": "code",
   "execution_count": 56,
   "id": "7fa80b19",
   "metadata": {},
   "outputs": [],
   "source": [
    "location1 = float(nai_latitude), float(nai_longitude)\n",
    "location2 = float(mom_latitude), float(mom_longitude)\n",
    "location3 = float(lai_latitude), float(lai_longitude)\n",
    "location4 = float(mer_latitude), float(mer_longitude)\n",
    "location5 = float(nye_latitude), float(nye_longitude)\n",
    "location6 = float(mal_latitude), float(mal_longitude)\n",
    "location7 = float(thik_latitude), float(thik_longitude)\n",
    "location8 = float(nak_latitude), float(nak_longitude)\n",
    "location9 = float(eld_latitude), float(eld_longitude)\n",
    "location10 = float(kis_latitude), float(kis_longitude)"
   ]
  },
  {
   "cell_type": "code",
   "execution_count": 57,
   "id": "7d183a50",
   "metadata": {},
   "outputs": [
    {
     "data": {
      "text/plain": [
       "<folium.map.Marker at 0x7f07ef007550>"
      ]
     },
     "execution_count": 57,
     "metadata": {},
     "output_type": "execute_result"
    }
   ],
   "source": [
    "m1 = folium.Map(location = location1, width = 800, height = 400)\n",
    "folium.Marker(location1).add_to(m1)\n",
    "folium.Marker(location2).add_to(m1)\n",
    "folium.Marker(location3).add_to(m1)\n",
    "folium.Marker(location4).add_to(m1)\n",
    "folium.Marker(location5).add_to(m1)\n",
    "folium.Marker(location6).add_to(m1)\n",
    "folium.Marker(location7).add_to(m1)\n",
    "folium.Marker(location8).add_to(m1)\n",
    "folium.Marker(location9).add_to(m1)\n",
    "folium.Marker(location10).add_to(m1)"
   ]
  },
  {
   "cell_type": "code",
   "execution_count": 58,
   "id": "0084e33a",
   "metadata": {},
   "outputs": [
    {
     "data": {
      "text/plain": [
       "<folium.map.Marker at 0x7f08242a6460>"
      ]
     },
     "execution_count": 58,
     "metadata": {},
     "output_type": "execute_result"
    }
   ],
   "source": [
    "m2 = folium.Map(location = location1, width = 800, height = 400)\n",
    "folium.Marker(location1).add_to(m2)\n",
    "folium.Marker(location2).add_to(m2)\n",
    "folium.Marker(location3).add_to(m2)\n",
    "folium.Marker(location4).add_to(m2)\n",
    "folium.Marker(location5).add_to(m2)\n",
    "folium.Marker(location6).add_to(m2)\n",
    "folium.Marker(location7).add_to(m2)\n",
    "folium.Marker(location8).add_to(m2)\n",
    "folium.Marker(location9).add_to(m2)\n",
    "folium.Marker(location10).add_to(m2)"
   ]
  },
  {
   "cell_type": "code",
   "execution_count": 59,
   "id": "861e617b",
   "metadata": {},
   "outputs": [
    {
     "data": {
      "text/plain": [
       "<folium.map.Marker at 0x7f07eefde940>"
      ]
     },
     "execution_count": 59,
     "metadata": {},
     "output_type": "execute_result"
    }
   ],
   "source": [
    "m3 = folium.Map(location = location1, width = 800, height = 400)\n",
    "folium.Marker(location1).add_to(m3)\n",
    "folium.Marker(location2).add_to(m3)\n",
    "folium.Marker(location3).add_to(m3)\n",
    "folium.Marker(location4).add_to(m3)\n",
    "folium.Marker(location5).add_to(m3)\n",
    "folium.Marker(location6).add_to(m3)\n",
    "folium.Marker(location7).add_to(m3)\n",
    "folium.Marker(location8).add_to(m3)\n",
    "folium.Marker(location9).add_to(m3)\n",
    "folium.Marker(location10).add_to(m3)"
   ]
  },
  {
   "cell_type": "code",
   "execution_count": 60,
   "id": "22d3858a",
   "metadata": {},
   "outputs": [],
   "source": [
    "from geopy.distance import distance"
   ]
  },
  {
   "cell_type": "code",
   "execution_count": 61,
   "id": "7a837290",
   "metadata": {},
   "outputs": [],
   "source": [
    "neighbours = {\n",
    "        location6: [location2],\n",
    "        location2: [location1, location6],\n",
    "        location1: [location7, location2],\n",
    "        location7: [location5, location1],\n",
    "        location5: [location8, location3, location7],\n",
    "        location3: [location4, location5],\n",
    "        location4: [location3],\n",
    "        location8: [location9, location5],\n",
    "        location9: [location10, location8],\n",
    "        location10: [location9]\n",
    "}"
   ]
  },
  {
   "cell_type": "code",
   "execution_count": 62,
   "id": "e5a1b914",
   "metadata": {},
   "outputs": [
    {
     "data": {
      "text/plain": [
       "{(-3.2315438, 40.102555): [(-4.058193604347826, 39.67314489347826)],\n",
       " (-4.058193604347826,\n",
       "  39.67314489347826): [(-1.2580146872727274, 36.839471896363634), (-3.2315438,\n",
       "   40.102555)],\n",
       " (-1.2580146872727274, 36.839471896363634): [(-1.05904065, 37.1054561),\n",
       "  (-4.058193604347826, 39.67314489347826)],\n",
       " (-1.05904065, 37.1054561): [(-0.4180221230769231, 36.96838922307692),\n",
       "  (-1.2580146872727274, 36.839471896363634)],\n",
       " (-0.4180221230769231, 36.96838922307692): [(-0.34552775, 36.1421234),\n",
       "  (0.025107366666666665, 37.077327133333334),\n",
       "  (-1.05904065, 37.1054561)],\n",
       " (0.025107366666666665, 37.077327133333334): [(0.0446891, 37.6479828),\n",
       "  (-0.4180221230769231, 36.96838922307692)],\n",
       " (0.0446891, 37.6479828): [(0.025107366666666665, 37.077327133333334)],\n",
       " (-0.34552775, 36.1421234): [(0.5148679911764705, 35.27678507352941),\n",
       "  (-0.4180221230769231, 36.96838922307692)],\n",
       " (0.5148679911764705, 35.27678507352941): [(-0.08419422, 34.76938705333334),\n",
       "  (-0.34552775, 36.1421234)],\n",
       " (-0.08419422, 34.76938705333334): [(0.5148679911764705, 35.27678507352941)]}"
      ]
     },
     "execution_count": 62,
     "metadata": {},
     "output_type": "execute_result"
    }
   ],
   "source": [
    "neighbours"
   ]
  },
  {
   "cell_type": "code",
   "execution_count": 63,
   "id": "7bff9fb5",
   "metadata": {},
   "outputs": [],
   "source": [
    "from queue import Queue"
   ]
  },
  {
   "cell_type": "code",
   "execution_count": 64,
   "id": "f13002bb",
   "metadata": {},
   "outputs": [
    {
     "name": "stdout",
     "output_type": "stream",
     "text": [
      "[(-3.2315438, 40.102555), (-4.058193604347826, 39.67314489347826), (-1.2580146872727274, 36.839471896363634), (-1.05904065, 37.1054561), (-0.4180221230769231, 36.96838922307692), (-0.34552775, 36.1421234), (0.025107366666666665, 37.077327133333334), (0.5148679911764705, 35.27678507352941), (0.0446891, 37.6479828), (-0.08419422, 34.76938705333334)]\n"
     ]
    }
   ],
   "source": [
    "visited={}\n",
    "level={}\n",
    "parent={}\n",
    "bfs_traversal_output=[]\n",
    "queue=Queue()\n",
    "\n",
    "for node in neighbours.keys():\n",
    "    visited[node] = False\n",
    "    parent[node] = None\n",
    "    level[node] = -1\n",
    "\n",
    "s=location6\n",
    "visited[s] = True\n",
    "level[s] = 0\n",
    "queue.put(s)\n",
    "\n",
    "while not queue.empty():\n",
    "    u = queue.get()\n",
    "    bfs_traversal_output.append(u)\n",
    "    \n",
    "    for v in neighbours[u]:\n",
    "        if not visited[v]:\n",
    "            visited[v] = True\n",
    "            parent[v] = u\n",
    "            level[v] = level[u]+1\n",
    "            queue.put(v)\n",
    "            \n",
    "print(bfs_traversal_output)"
   ]
  },
  {
   "cell_type": "code",
   "execution_count": 65,
   "id": "ac16ebee",
   "metadata": {},
   "outputs": [],
   "source": [
    "bfs_length = len(bfs_traversal_output)\n",
    "\n",
    "total_distance = 0\n",
    "\n",
    "for i in range(bfs_length - 1):\n",
    "    total_distance += distance(bfs_traversal_output[i], bfs_traversal_output[i+1]).km\n",
    "    folium.PolyLine((bfs_traversal_output[i], bfs_traversal_output[i+1])).add_to(m1)"
   ]
  },
  {
   "cell_type": "code",
   "execution_count": 66,
   "id": "f9a225a5",
   "metadata": {},
   "outputs": [
    {
     "data": {
      "text/html": [
       "<div style=\"width:100%;\"><div style=\"position:relative;width:100%;height:0;padding-bottom:60%;\"><span style=\"color:#565656\">Make this Notebook Trusted to load map: File -> Trust Notebook</span><iframe srcdoc=\"&lt;!DOCTYPE html&gt;\n",
       "&lt;head&gt;    \n",
       "    &lt;meta http-equiv=&quot;content-type&quot; content=&quot;text/html; charset=UTF-8&quot; /&gt;\n",
       "    \n",
       "        &lt;script&gt;\n",
       "            L_NO_TOUCH = false;\n",
       "            L_DISABLE_3D = false;\n",
       "        &lt;/script&gt;\n",
       "    \n",
       "    &lt;style&gt;html, body {width: 100%;height: 100%;margin: 0;padding: 0;}&lt;/style&gt;\n",
       "    &lt;style&gt;#map {position:absolute;top:0;bottom:0;right:0;left:0;}&lt;/style&gt;\n",
       "    &lt;script src=&quot;https://cdn.jsdelivr.net/npm/leaflet@1.6.0/dist/leaflet.js&quot;&gt;&lt;/script&gt;\n",
       "    &lt;script src=&quot;https://code.jquery.com/jquery-1.12.4.min.js&quot;&gt;&lt;/script&gt;\n",
       "    &lt;script src=&quot;https://maxcdn.bootstrapcdn.com/bootstrap/3.2.0/js/bootstrap.min.js&quot;&gt;&lt;/script&gt;\n",
       "    &lt;script src=&quot;https://cdnjs.cloudflare.com/ajax/libs/Leaflet.awesome-markers/2.0.2/leaflet.awesome-markers.js&quot;&gt;&lt;/script&gt;\n",
       "    &lt;link rel=&quot;stylesheet&quot; href=&quot;https://cdn.jsdelivr.net/npm/leaflet@1.6.0/dist/leaflet.css&quot;/&gt;\n",
       "    &lt;link rel=&quot;stylesheet&quot; href=&quot;https://maxcdn.bootstrapcdn.com/bootstrap/3.2.0/css/bootstrap.min.css&quot;/&gt;\n",
       "    &lt;link rel=&quot;stylesheet&quot; href=&quot;https://maxcdn.bootstrapcdn.com/bootstrap/3.2.0/css/bootstrap-theme.min.css&quot;/&gt;\n",
       "    &lt;link rel=&quot;stylesheet&quot; href=&quot;https://maxcdn.bootstrapcdn.com/font-awesome/4.6.3/css/font-awesome.min.css&quot;/&gt;\n",
       "    &lt;link rel=&quot;stylesheet&quot; href=&quot;https://cdnjs.cloudflare.com/ajax/libs/Leaflet.awesome-markers/2.0.2/leaflet.awesome-markers.css&quot;/&gt;\n",
       "    &lt;link rel=&quot;stylesheet&quot; href=&quot;https://cdn.jsdelivr.net/gh/python-visualization/folium/folium/templates/leaflet.awesome.rotate.min.css&quot;/&gt;\n",
       "    \n",
       "            &lt;meta name=&quot;viewport&quot; content=&quot;width=device-width,\n",
       "                initial-scale=1.0, maximum-scale=1.0, user-scalable=no&quot; /&gt;\n",
       "            &lt;style&gt;\n",
       "                #map_4dde63025c9e62d2fc94464925266595 {\n",
       "                    position: relative;\n",
       "                    width: 800.0px;\n",
       "                    height: 400.0px;\n",
       "                    left: 0.0%;\n",
       "                    top: 0.0%;\n",
       "                }\n",
       "            &lt;/style&gt;\n",
       "        \n",
       "&lt;/head&gt;\n",
       "&lt;body&gt;    \n",
       "    \n",
       "            &lt;div class=&quot;folium-map&quot; id=&quot;map_4dde63025c9e62d2fc94464925266595&quot; &gt;&lt;/div&gt;\n",
       "        \n",
       "&lt;/body&gt;\n",
       "&lt;script&gt;    \n",
       "    \n",
       "            var map_4dde63025c9e62d2fc94464925266595 = L.map(\n",
       "                &quot;map_4dde63025c9e62d2fc94464925266595&quot;,\n",
       "                {\n",
       "                    center: [-1.2580146872727274, 36.839471896363634],\n",
       "                    crs: L.CRS.EPSG3857,\n",
       "                    zoom: 10,\n",
       "                    zoomControl: true,\n",
       "                    preferCanvas: false,\n",
       "                }\n",
       "            );\n",
       "\n",
       "            \n",
       "\n",
       "        \n",
       "    \n",
       "            var tile_layer_291cf40b0e0ab8991a63ad93d21c54fd = L.tileLayer(\n",
       "                &quot;https://{s}.tile.openstreetmap.org/{z}/{x}/{y}.png&quot;,\n",
       "                {&quot;attribution&quot;: &quot;Data by \\u0026copy; \\u003ca href=\\&quot;http://openstreetmap.org\\&quot;\\u003eOpenStreetMap\\u003c/a\\u003e, under \\u003ca href=\\&quot;http://www.openstreetmap.org/copyright\\&quot;\\u003eODbL\\u003c/a\\u003e.&quot;, &quot;detectRetina&quot;: false, &quot;maxNativeZoom&quot;: 18, &quot;maxZoom&quot;: 18, &quot;minZoom&quot;: 0, &quot;noWrap&quot;: false, &quot;opacity&quot;: 1, &quot;subdomains&quot;: &quot;abc&quot;, &quot;tms&quot;: false}\n",
       "            ).addTo(map_4dde63025c9e62d2fc94464925266595);\n",
       "        \n",
       "    \n",
       "            var marker_79d1f21e652eed09321bf4551e7302a5 = L.marker(\n",
       "                [-1.2580146872727274, 36.839471896363634],\n",
       "                {}\n",
       "            ).addTo(map_4dde63025c9e62d2fc94464925266595);\n",
       "        \n",
       "    \n",
       "            var marker_e7439d517177f083ad9db86f47d25dd0 = L.marker(\n",
       "                [-4.058193604347826, 39.67314489347826],\n",
       "                {}\n",
       "            ).addTo(map_4dde63025c9e62d2fc94464925266595);\n",
       "        \n",
       "    \n",
       "            var marker_3034686a00ec27de4a13879b03d3c2e9 = L.marker(\n",
       "                [0.025107366666666665, 37.077327133333334],\n",
       "                {}\n",
       "            ).addTo(map_4dde63025c9e62d2fc94464925266595);\n",
       "        \n",
       "    \n",
       "            var marker_11f8a4923b121179f25e6c117bdded74 = L.marker(\n",
       "                [0.0446891, 37.6479828],\n",
       "                {}\n",
       "            ).addTo(map_4dde63025c9e62d2fc94464925266595);\n",
       "        \n",
       "    \n",
       "            var marker_6615d1a5be352ef515d2e96208a3b254 = L.marker(\n",
       "                [-0.4180221230769231, 36.96838922307692],\n",
       "                {}\n",
       "            ).addTo(map_4dde63025c9e62d2fc94464925266595);\n",
       "        \n",
       "    \n",
       "            var marker_d7a3d1c1a10c384a7af760d296db9c20 = L.marker(\n",
       "                [-3.2315438, 40.102555],\n",
       "                {}\n",
       "            ).addTo(map_4dde63025c9e62d2fc94464925266595);\n",
       "        \n",
       "    \n",
       "            var marker_4631d1108dabf0559efeb171b543800e = L.marker(\n",
       "                [-1.05904065, 37.1054561],\n",
       "                {}\n",
       "            ).addTo(map_4dde63025c9e62d2fc94464925266595);\n",
       "        \n",
       "    \n",
       "            var marker_5ad7a89daee22261eb0e5641843ddc9b = L.marker(\n",
       "                [-0.34552775, 36.1421234],\n",
       "                {}\n",
       "            ).addTo(map_4dde63025c9e62d2fc94464925266595);\n",
       "        \n",
       "    \n",
       "            var marker_c8fff57a0ce3b1288060c11b02bc24d6 = L.marker(\n",
       "                [0.5148679911764705, 35.27678507352941],\n",
       "                {}\n",
       "            ).addTo(map_4dde63025c9e62d2fc94464925266595);\n",
       "        \n",
       "    \n",
       "            var marker_8d518e7c47ee814e4aa0f674b51d3b10 = L.marker(\n",
       "                [-0.08419422, 34.76938705333334],\n",
       "                {}\n",
       "            ).addTo(map_4dde63025c9e62d2fc94464925266595);\n",
       "        \n",
       "    \n",
       "            var poly_line_7cdf1e0e14509959187d16551a93b6d0 = L.polyline(\n",
       "                [[-3.2315438, 40.102555], [-4.058193604347826, 39.67314489347826]],\n",
       "                {&quot;bubblingMouseEvents&quot;: true, &quot;color&quot;: &quot;#3388ff&quot;, &quot;dashArray&quot;: null, &quot;dashOffset&quot;: null, &quot;fill&quot;: false, &quot;fillColor&quot;: &quot;#3388ff&quot;, &quot;fillOpacity&quot;: 0.2, &quot;fillRule&quot;: &quot;evenodd&quot;, &quot;lineCap&quot;: &quot;round&quot;, &quot;lineJoin&quot;: &quot;round&quot;, &quot;noClip&quot;: false, &quot;opacity&quot;: 1.0, &quot;smoothFactor&quot;: 1.0, &quot;stroke&quot;: true, &quot;weight&quot;: 3}\n",
       "            ).addTo(map_4dde63025c9e62d2fc94464925266595);\n",
       "        \n",
       "    \n",
       "            var poly_line_16d56874926ed81a7d896fc924b095e7 = L.polyline(\n",
       "                [[-4.058193604347826, 39.67314489347826], [-1.2580146872727274, 36.839471896363634]],\n",
       "                {&quot;bubblingMouseEvents&quot;: true, &quot;color&quot;: &quot;#3388ff&quot;, &quot;dashArray&quot;: null, &quot;dashOffset&quot;: null, &quot;fill&quot;: false, &quot;fillColor&quot;: &quot;#3388ff&quot;, &quot;fillOpacity&quot;: 0.2, &quot;fillRule&quot;: &quot;evenodd&quot;, &quot;lineCap&quot;: &quot;round&quot;, &quot;lineJoin&quot;: &quot;round&quot;, &quot;noClip&quot;: false, &quot;opacity&quot;: 1.0, &quot;smoothFactor&quot;: 1.0, &quot;stroke&quot;: true, &quot;weight&quot;: 3}\n",
       "            ).addTo(map_4dde63025c9e62d2fc94464925266595);\n",
       "        \n",
       "    \n",
       "            var poly_line_b3919e55a8ad427205a6025b5fe1d13e = L.polyline(\n",
       "                [[-1.2580146872727274, 36.839471896363634], [-1.05904065, 37.1054561]],\n",
       "                {&quot;bubblingMouseEvents&quot;: true, &quot;color&quot;: &quot;#3388ff&quot;, &quot;dashArray&quot;: null, &quot;dashOffset&quot;: null, &quot;fill&quot;: false, &quot;fillColor&quot;: &quot;#3388ff&quot;, &quot;fillOpacity&quot;: 0.2, &quot;fillRule&quot;: &quot;evenodd&quot;, &quot;lineCap&quot;: &quot;round&quot;, &quot;lineJoin&quot;: &quot;round&quot;, &quot;noClip&quot;: false, &quot;opacity&quot;: 1.0, &quot;smoothFactor&quot;: 1.0, &quot;stroke&quot;: true, &quot;weight&quot;: 3}\n",
       "            ).addTo(map_4dde63025c9e62d2fc94464925266595);\n",
       "        \n",
       "    \n",
       "            var poly_line_8242c0ddc767a36fd43cf66cca8722b6 = L.polyline(\n",
       "                [[-1.05904065, 37.1054561], [-0.4180221230769231, 36.96838922307692]],\n",
       "                {&quot;bubblingMouseEvents&quot;: true, &quot;color&quot;: &quot;#3388ff&quot;, &quot;dashArray&quot;: null, &quot;dashOffset&quot;: null, &quot;fill&quot;: false, &quot;fillColor&quot;: &quot;#3388ff&quot;, &quot;fillOpacity&quot;: 0.2, &quot;fillRule&quot;: &quot;evenodd&quot;, &quot;lineCap&quot;: &quot;round&quot;, &quot;lineJoin&quot;: &quot;round&quot;, &quot;noClip&quot;: false, &quot;opacity&quot;: 1.0, &quot;smoothFactor&quot;: 1.0, &quot;stroke&quot;: true, &quot;weight&quot;: 3}\n",
       "            ).addTo(map_4dde63025c9e62d2fc94464925266595);\n",
       "        \n",
       "    \n",
       "            var poly_line_2feb7e763ea71229e70bb3af9bffa099 = L.polyline(\n",
       "                [[-0.4180221230769231, 36.96838922307692], [-0.34552775, 36.1421234]],\n",
       "                {&quot;bubblingMouseEvents&quot;: true, &quot;color&quot;: &quot;#3388ff&quot;, &quot;dashArray&quot;: null, &quot;dashOffset&quot;: null, &quot;fill&quot;: false, &quot;fillColor&quot;: &quot;#3388ff&quot;, &quot;fillOpacity&quot;: 0.2, &quot;fillRule&quot;: &quot;evenodd&quot;, &quot;lineCap&quot;: &quot;round&quot;, &quot;lineJoin&quot;: &quot;round&quot;, &quot;noClip&quot;: false, &quot;opacity&quot;: 1.0, &quot;smoothFactor&quot;: 1.0, &quot;stroke&quot;: true, &quot;weight&quot;: 3}\n",
       "            ).addTo(map_4dde63025c9e62d2fc94464925266595);\n",
       "        \n",
       "    \n",
       "            var poly_line_03c820df67308c808faf50a858cdf53d = L.polyline(\n",
       "                [[-0.34552775, 36.1421234], [0.025107366666666665, 37.077327133333334]],\n",
       "                {&quot;bubblingMouseEvents&quot;: true, &quot;color&quot;: &quot;#3388ff&quot;, &quot;dashArray&quot;: null, &quot;dashOffset&quot;: null, &quot;fill&quot;: false, &quot;fillColor&quot;: &quot;#3388ff&quot;, &quot;fillOpacity&quot;: 0.2, &quot;fillRule&quot;: &quot;evenodd&quot;, &quot;lineCap&quot;: &quot;round&quot;, &quot;lineJoin&quot;: &quot;round&quot;, &quot;noClip&quot;: false, &quot;opacity&quot;: 1.0, &quot;smoothFactor&quot;: 1.0, &quot;stroke&quot;: true, &quot;weight&quot;: 3}\n",
       "            ).addTo(map_4dde63025c9e62d2fc94464925266595);\n",
       "        \n",
       "    \n",
       "            var poly_line_3d763aed477525eeee63cb00954cb155 = L.polyline(\n",
       "                [[0.025107366666666665, 37.077327133333334], [0.5148679911764705, 35.27678507352941]],\n",
       "                {&quot;bubblingMouseEvents&quot;: true, &quot;color&quot;: &quot;#3388ff&quot;, &quot;dashArray&quot;: null, &quot;dashOffset&quot;: null, &quot;fill&quot;: false, &quot;fillColor&quot;: &quot;#3388ff&quot;, &quot;fillOpacity&quot;: 0.2, &quot;fillRule&quot;: &quot;evenodd&quot;, &quot;lineCap&quot;: &quot;round&quot;, &quot;lineJoin&quot;: &quot;round&quot;, &quot;noClip&quot;: false, &quot;opacity&quot;: 1.0, &quot;smoothFactor&quot;: 1.0, &quot;stroke&quot;: true, &quot;weight&quot;: 3}\n",
       "            ).addTo(map_4dde63025c9e62d2fc94464925266595);\n",
       "        \n",
       "    \n",
       "            var poly_line_0708e1c9cfe295581e774e9cfd12ca1c = L.polyline(\n",
       "                [[0.5148679911764705, 35.27678507352941], [0.0446891, 37.6479828]],\n",
       "                {&quot;bubblingMouseEvents&quot;: true, &quot;color&quot;: &quot;#3388ff&quot;, &quot;dashArray&quot;: null, &quot;dashOffset&quot;: null, &quot;fill&quot;: false, &quot;fillColor&quot;: &quot;#3388ff&quot;, &quot;fillOpacity&quot;: 0.2, &quot;fillRule&quot;: &quot;evenodd&quot;, &quot;lineCap&quot;: &quot;round&quot;, &quot;lineJoin&quot;: &quot;round&quot;, &quot;noClip&quot;: false, &quot;opacity&quot;: 1.0, &quot;smoothFactor&quot;: 1.0, &quot;stroke&quot;: true, &quot;weight&quot;: 3}\n",
       "            ).addTo(map_4dde63025c9e62d2fc94464925266595);\n",
       "        \n",
       "    \n",
       "            var poly_line_39be3b7100b6a4df82959a8205e7bc32 = L.polyline(\n",
       "                [[0.0446891, 37.6479828], [-0.08419422, 34.76938705333334]],\n",
       "                {&quot;bubblingMouseEvents&quot;: true, &quot;color&quot;: &quot;#3388ff&quot;, &quot;dashArray&quot;: null, &quot;dashOffset&quot;: null, &quot;fill&quot;: false, &quot;fillColor&quot;: &quot;#3388ff&quot;, &quot;fillOpacity&quot;: 0.2, &quot;fillRule&quot;: &quot;evenodd&quot;, &quot;lineCap&quot;: &quot;round&quot;, &quot;lineJoin&quot;: &quot;round&quot;, &quot;noClip&quot;: false, &quot;opacity&quot;: 1.0, &quot;smoothFactor&quot;: 1.0, &quot;stroke&quot;: true, &quot;weight&quot;: 3}\n",
       "            ).addTo(map_4dde63025c9e62d2fc94464925266595);\n",
       "        \n",
       "&lt;/script&gt;\" style=\"position:absolute;width:100%;height:100%;left:0;top:0;border:none !important;\" allowfullscreen webkitallowfullscreen mozallowfullscreen></iframe></div></div>"
      ],
      "text/plain": [
       "<folium.folium.Map at 0x7f07ef0078b0>"
      ]
     },
     "execution_count": 66,
     "metadata": {},
     "output_type": "execute_result"
    }
   ],
   "source": [
    "m1"
   ]
  },
  {
   "cell_type": "code",
   "execution_count": 67,
   "id": "3d8a27d6",
   "metadata": {},
   "outputs": [
    {
     "data": {
      "text/plain": [
       "1655.866550121813"
      ]
     },
     "execution_count": 67,
     "metadata": {},
     "output_type": "execute_result"
    }
   ],
   "source": [
    "total_distance"
   ]
  },
  {
   "cell_type": "code",
   "execution_count": 68,
   "id": "b960f2fa",
   "metadata": {},
   "outputs": [],
   "source": [
    "color = {}\n",
    "parent = {}\n",
    "trav_time = {}\n",
    "dfs_traversal_output = []\n",
    "\n",
    "for node in neighbours.keys():\n",
    "    color[node] = \"w\"\n",
    "    parent[node] = None\n",
    "    trav_time[node] = [-1,-1]"
   ]
  },
  {
   "cell_type": "code",
   "execution_count": 69,
   "id": "a6ff5b9e",
   "metadata": {},
   "outputs": [],
   "source": [
    "time = 0\n",
    "def dfs_util(u):\n",
    "    global time\n",
    "    color[u] = \"g\"\n",
    "    trav_time[u][0] = time\n",
    "    dfs_traversal_output.append(u)\n",
    "    \n",
    "    for v in neighbours[u]:\n",
    "        if color[v] == \"w\":\n",
    "            parent[v] = u\n",
    "            dfs_util(v)\n",
    "    color[u] = \"b\"\n",
    "    trav_time[u][1] = time\n",
    "    time+=1"
   ]
  },
  {
   "cell_type": "code",
   "execution_count": 70,
   "id": "1e002904",
   "metadata": {},
   "outputs": [],
   "source": [
    "dfs_util(location6)"
   ]
  },
  {
   "cell_type": "code",
   "execution_count": 71,
   "id": "ddd3d7dd",
   "metadata": {},
   "outputs": [
    {
     "name": "stdout",
     "output_type": "stream",
     "text": [
      "[(-3.2315438, 40.102555), (-4.058193604347826, 39.67314489347826), (-1.2580146872727274, 36.839471896363634), (-1.05904065, 37.1054561), (-0.4180221230769231, 36.96838922307692), (-0.34552775, 36.1421234), (0.5148679911764705, 35.27678507352941), (-0.08419422, 34.76938705333334), (0.025107366666666665, 37.077327133333334), (0.0446891, 37.6479828)]\n"
     ]
    }
   ],
   "source": [
    "print(dfs_traversal_output)"
   ]
  },
  {
   "cell_type": "code",
   "execution_count": 72,
   "id": "71977b52",
   "metadata": {},
   "outputs": [],
   "source": [
    "dfs_length = len(dfs_traversal_output)\n",
    "\n",
    "total_distance = 0\n",
    "\n",
    "for i in range(dfs_length - 1):\n",
    "    total_distance += distance(dfs_traversal_output[i], dfs_traversal_output[i+1]).km\n",
    "    folium.PolyLine((dfs_traversal_output[i], dfs_traversal_output[i+1])).add_to(m2)"
   ]
  },
  {
   "cell_type": "code",
   "execution_count": 73,
   "id": "418a0bd5",
   "metadata": {
    "scrolled": true
   },
   "outputs": [
    {
     "data": {
      "text/html": [
       "<div style=\"width:100%;\"><div style=\"position:relative;width:100%;height:0;padding-bottom:60%;\"><span style=\"color:#565656\">Make this Notebook Trusted to load map: File -> Trust Notebook</span><iframe srcdoc=\"&lt;!DOCTYPE html&gt;\n",
       "&lt;head&gt;    \n",
       "    &lt;meta http-equiv=&quot;content-type&quot; content=&quot;text/html; charset=UTF-8&quot; /&gt;\n",
       "    \n",
       "        &lt;script&gt;\n",
       "            L_NO_TOUCH = false;\n",
       "            L_DISABLE_3D = false;\n",
       "        &lt;/script&gt;\n",
       "    \n",
       "    &lt;style&gt;html, body {width: 100%;height: 100%;margin: 0;padding: 0;}&lt;/style&gt;\n",
       "    &lt;style&gt;#map {position:absolute;top:0;bottom:0;right:0;left:0;}&lt;/style&gt;\n",
       "    &lt;script src=&quot;https://cdn.jsdelivr.net/npm/leaflet@1.6.0/dist/leaflet.js&quot;&gt;&lt;/script&gt;\n",
       "    &lt;script src=&quot;https://code.jquery.com/jquery-1.12.4.min.js&quot;&gt;&lt;/script&gt;\n",
       "    &lt;script src=&quot;https://maxcdn.bootstrapcdn.com/bootstrap/3.2.0/js/bootstrap.min.js&quot;&gt;&lt;/script&gt;\n",
       "    &lt;script src=&quot;https://cdnjs.cloudflare.com/ajax/libs/Leaflet.awesome-markers/2.0.2/leaflet.awesome-markers.js&quot;&gt;&lt;/script&gt;\n",
       "    &lt;link rel=&quot;stylesheet&quot; href=&quot;https://cdn.jsdelivr.net/npm/leaflet@1.6.0/dist/leaflet.css&quot;/&gt;\n",
       "    &lt;link rel=&quot;stylesheet&quot; href=&quot;https://maxcdn.bootstrapcdn.com/bootstrap/3.2.0/css/bootstrap.min.css&quot;/&gt;\n",
       "    &lt;link rel=&quot;stylesheet&quot; href=&quot;https://maxcdn.bootstrapcdn.com/bootstrap/3.2.0/css/bootstrap-theme.min.css&quot;/&gt;\n",
       "    &lt;link rel=&quot;stylesheet&quot; href=&quot;https://maxcdn.bootstrapcdn.com/font-awesome/4.6.3/css/font-awesome.min.css&quot;/&gt;\n",
       "    &lt;link rel=&quot;stylesheet&quot; href=&quot;https://cdnjs.cloudflare.com/ajax/libs/Leaflet.awesome-markers/2.0.2/leaflet.awesome-markers.css&quot;/&gt;\n",
       "    &lt;link rel=&quot;stylesheet&quot; href=&quot;https://cdn.jsdelivr.net/gh/python-visualization/folium/folium/templates/leaflet.awesome.rotate.min.css&quot;/&gt;\n",
       "    \n",
       "            &lt;meta name=&quot;viewport&quot; content=&quot;width=device-width,\n",
       "                initial-scale=1.0, maximum-scale=1.0, user-scalable=no&quot; /&gt;\n",
       "            &lt;style&gt;\n",
       "                #map_f545bd3a7deabaf08b590dd79c64ab43 {\n",
       "                    position: relative;\n",
       "                    width: 800.0px;\n",
       "                    height: 400.0px;\n",
       "                    left: 0.0%;\n",
       "                    top: 0.0%;\n",
       "                }\n",
       "            &lt;/style&gt;\n",
       "        \n",
       "&lt;/head&gt;\n",
       "&lt;body&gt;    \n",
       "    \n",
       "            &lt;div class=&quot;folium-map&quot; id=&quot;map_f545bd3a7deabaf08b590dd79c64ab43&quot; &gt;&lt;/div&gt;\n",
       "        \n",
       "&lt;/body&gt;\n",
       "&lt;script&gt;    \n",
       "    \n",
       "            var map_f545bd3a7deabaf08b590dd79c64ab43 = L.map(\n",
       "                &quot;map_f545bd3a7deabaf08b590dd79c64ab43&quot;,\n",
       "                {\n",
       "                    center: [-1.2580146872727274, 36.839471896363634],\n",
       "                    crs: L.CRS.EPSG3857,\n",
       "                    zoom: 10,\n",
       "                    zoomControl: true,\n",
       "                    preferCanvas: false,\n",
       "                }\n",
       "            );\n",
       "\n",
       "            \n",
       "\n",
       "        \n",
       "    \n",
       "            var tile_layer_2af08ba21f91251e8b18f0f955bdc084 = L.tileLayer(\n",
       "                &quot;https://{s}.tile.openstreetmap.org/{z}/{x}/{y}.png&quot;,\n",
       "                {&quot;attribution&quot;: &quot;Data by \\u0026copy; \\u003ca href=\\&quot;http://openstreetmap.org\\&quot;\\u003eOpenStreetMap\\u003c/a\\u003e, under \\u003ca href=\\&quot;http://www.openstreetmap.org/copyright\\&quot;\\u003eODbL\\u003c/a\\u003e.&quot;, &quot;detectRetina&quot;: false, &quot;maxNativeZoom&quot;: 18, &quot;maxZoom&quot;: 18, &quot;minZoom&quot;: 0, &quot;noWrap&quot;: false, &quot;opacity&quot;: 1, &quot;subdomains&quot;: &quot;abc&quot;, &quot;tms&quot;: false}\n",
       "            ).addTo(map_f545bd3a7deabaf08b590dd79c64ab43);\n",
       "        \n",
       "    \n",
       "            var marker_d94c0346e70a94ea4911b70393a6974f = L.marker(\n",
       "                [-1.2580146872727274, 36.839471896363634],\n",
       "                {}\n",
       "            ).addTo(map_f545bd3a7deabaf08b590dd79c64ab43);\n",
       "        \n",
       "    \n",
       "            var marker_2c4dbe4e7ec65a7eafe9bc267d3c16b2 = L.marker(\n",
       "                [-4.058193604347826, 39.67314489347826],\n",
       "                {}\n",
       "            ).addTo(map_f545bd3a7deabaf08b590dd79c64ab43);\n",
       "        \n",
       "    \n",
       "            var marker_7991fe132d17261fa2cec8be337bcd6b = L.marker(\n",
       "                [0.025107366666666665, 37.077327133333334],\n",
       "                {}\n",
       "            ).addTo(map_f545bd3a7deabaf08b590dd79c64ab43);\n",
       "        \n",
       "    \n",
       "            var marker_7b131f232ff1725ef21b7f3349c9c18b = L.marker(\n",
       "                [0.0446891, 37.6479828],\n",
       "                {}\n",
       "            ).addTo(map_f545bd3a7deabaf08b590dd79c64ab43);\n",
       "        \n",
       "    \n",
       "            var marker_13e3060a0053160e3779884bd2549469 = L.marker(\n",
       "                [-0.4180221230769231, 36.96838922307692],\n",
       "                {}\n",
       "            ).addTo(map_f545bd3a7deabaf08b590dd79c64ab43);\n",
       "        \n",
       "    \n",
       "            var marker_e4b89f8856b9bd97278d17f1a965ed8c = L.marker(\n",
       "                [-3.2315438, 40.102555],\n",
       "                {}\n",
       "            ).addTo(map_f545bd3a7deabaf08b590dd79c64ab43);\n",
       "        \n",
       "    \n",
       "            var marker_8af3b82467e56c50e7f85e73f77b55ce = L.marker(\n",
       "                [-1.05904065, 37.1054561],\n",
       "                {}\n",
       "            ).addTo(map_f545bd3a7deabaf08b590dd79c64ab43);\n",
       "        \n",
       "    \n",
       "            var marker_38a2e16420768b7f7071e9473bfd1cd4 = L.marker(\n",
       "                [-0.34552775, 36.1421234],\n",
       "                {}\n",
       "            ).addTo(map_f545bd3a7deabaf08b590dd79c64ab43);\n",
       "        \n",
       "    \n",
       "            var marker_7999935f59d06bed8cd78af1a63b496d = L.marker(\n",
       "                [0.5148679911764705, 35.27678507352941],\n",
       "                {}\n",
       "            ).addTo(map_f545bd3a7deabaf08b590dd79c64ab43);\n",
       "        \n",
       "    \n",
       "            var marker_5af9ca79607df730bbffe295164fac58 = L.marker(\n",
       "                [-0.08419422, 34.76938705333334],\n",
       "                {}\n",
       "            ).addTo(map_f545bd3a7deabaf08b590dd79c64ab43);\n",
       "        \n",
       "    \n",
       "            var poly_line_1c2889673eec3377043ed2797c76e90e = L.polyline(\n",
       "                [[-3.2315438, 40.102555], [-4.058193604347826, 39.67314489347826]],\n",
       "                {&quot;bubblingMouseEvents&quot;: true, &quot;color&quot;: &quot;#3388ff&quot;, &quot;dashArray&quot;: null, &quot;dashOffset&quot;: null, &quot;fill&quot;: false, &quot;fillColor&quot;: &quot;#3388ff&quot;, &quot;fillOpacity&quot;: 0.2, &quot;fillRule&quot;: &quot;evenodd&quot;, &quot;lineCap&quot;: &quot;round&quot;, &quot;lineJoin&quot;: &quot;round&quot;, &quot;noClip&quot;: false, &quot;opacity&quot;: 1.0, &quot;smoothFactor&quot;: 1.0, &quot;stroke&quot;: true, &quot;weight&quot;: 3}\n",
       "            ).addTo(map_f545bd3a7deabaf08b590dd79c64ab43);\n",
       "        \n",
       "    \n",
       "            var poly_line_80a75436202160ba1d69baa9bba73315 = L.polyline(\n",
       "                [[-4.058193604347826, 39.67314489347826], [-1.2580146872727274, 36.839471896363634]],\n",
       "                {&quot;bubblingMouseEvents&quot;: true, &quot;color&quot;: &quot;#3388ff&quot;, &quot;dashArray&quot;: null, &quot;dashOffset&quot;: null, &quot;fill&quot;: false, &quot;fillColor&quot;: &quot;#3388ff&quot;, &quot;fillOpacity&quot;: 0.2, &quot;fillRule&quot;: &quot;evenodd&quot;, &quot;lineCap&quot;: &quot;round&quot;, &quot;lineJoin&quot;: &quot;round&quot;, &quot;noClip&quot;: false, &quot;opacity&quot;: 1.0, &quot;smoothFactor&quot;: 1.0, &quot;stroke&quot;: true, &quot;weight&quot;: 3}\n",
       "            ).addTo(map_f545bd3a7deabaf08b590dd79c64ab43);\n",
       "        \n",
       "    \n",
       "            var poly_line_b4b793d0d71cbc647dedb9fdfc428293 = L.polyline(\n",
       "                [[-1.2580146872727274, 36.839471896363634], [-1.05904065, 37.1054561]],\n",
       "                {&quot;bubblingMouseEvents&quot;: true, &quot;color&quot;: &quot;#3388ff&quot;, &quot;dashArray&quot;: null, &quot;dashOffset&quot;: null, &quot;fill&quot;: false, &quot;fillColor&quot;: &quot;#3388ff&quot;, &quot;fillOpacity&quot;: 0.2, &quot;fillRule&quot;: &quot;evenodd&quot;, &quot;lineCap&quot;: &quot;round&quot;, &quot;lineJoin&quot;: &quot;round&quot;, &quot;noClip&quot;: false, &quot;opacity&quot;: 1.0, &quot;smoothFactor&quot;: 1.0, &quot;stroke&quot;: true, &quot;weight&quot;: 3}\n",
       "            ).addTo(map_f545bd3a7deabaf08b590dd79c64ab43);\n",
       "        \n",
       "    \n",
       "            var poly_line_41a9b375ec303fe45bf7f0fe23cd6c00 = L.polyline(\n",
       "                [[-1.05904065, 37.1054561], [-0.4180221230769231, 36.96838922307692]],\n",
       "                {&quot;bubblingMouseEvents&quot;: true, &quot;color&quot;: &quot;#3388ff&quot;, &quot;dashArray&quot;: null, &quot;dashOffset&quot;: null, &quot;fill&quot;: false, &quot;fillColor&quot;: &quot;#3388ff&quot;, &quot;fillOpacity&quot;: 0.2, &quot;fillRule&quot;: &quot;evenodd&quot;, &quot;lineCap&quot;: &quot;round&quot;, &quot;lineJoin&quot;: &quot;round&quot;, &quot;noClip&quot;: false, &quot;opacity&quot;: 1.0, &quot;smoothFactor&quot;: 1.0, &quot;stroke&quot;: true, &quot;weight&quot;: 3}\n",
       "            ).addTo(map_f545bd3a7deabaf08b590dd79c64ab43);\n",
       "        \n",
       "    \n",
       "            var poly_line_2b2709e0d3b7cce8189e5896e9ba6faf = L.polyline(\n",
       "                [[-0.4180221230769231, 36.96838922307692], [-0.34552775, 36.1421234]],\n",
       "                {&quot;bubblingMouseEvents&quot;: true, &quot;color&quot;: &quot;#3388ff&quot;, &quot;dashArray&quot;: null, &quot;dashOffset&quot;: null, &quot;fill&quot;: false, &quot;fillColor&quot;: &quot;#3388ff&quot;, &quot;fillOpacity&quot;: 0.2, &quot;fillRule&quot;: &quot;evenodd&quot;, &quot;lineCap&quot;: &quot;round&quot;, &quot;lineJoin&quot;: &quot;round&quot;, &quot;noClip&quot;: false, &quot;opacity&quot;: 1.0, &quot;smoothFactor&quot;: 1.0, &quot;stroke&quot;: true, &quot;weight&quot;: 3}\n",
       "            ).addTo(map_f545bd3a7deabaf08b590dd79c64ab43);\n",
       "        \n",
       "    \n",
       "            var poly_line_9b214c5b435fb255997d7f34c2350aef = L.polyline(\n",
       "                [[-0.34552775, 36.1421234], [0.5148679911764705, 35.27678507352941]],\n",
       "                {&quot;bubblingMouseEvents&quot;: true, &quot;color&quot;: &quot;#3388ff&quot;, &quot;dashArray&quot;: null, &quot;dashOffset&quot;: null, &quot;fill&quot;: false, &quot;fillColor&quot;: &quot;#3388ff&quot;, &quot;fillOpacity&quot;: 0.2, &quot;fillRule&quot;: &quot;evenodd&quot;, &quot;lineCap&quot;: &quot;round&quot;, &quot;lineJoin&quot;: &quot;round&quot;, &quot;noClip&quot;: false, &quot;opacity&quot;: 1.0, &quot;smoothFactor&quot;: 1.0, &quot;stroke&quot;: true, &quot;weight&quot;: 3}\n",
       "            ).addTo(map_f545bd3a7deabaf08b590dd79c64ab43);\n",
       "        \n",
       "    \n",
       "            var poly_line_84d8b2b3005ed63d4aaf49a12ba512fd = L.polyline(\n",
       "                [[0.5148679911764705, 35.27678507352941], [-0.08419422, 34.76938705333334]],\n",
       "                {&quot;bubblingMouseEvents&quot;: true, &quot;color&quot;: &quot;#3388ff&quot;, &quot;dashArray&quot;: null, &quot;dashOffset&quot;: null, &quot;fill&quot;: false, &quot;fillColor&quot;: &quot;#3388ff&quot;, &quot;fillOpacity&quot;: 0.2, &quot;fillRule&quot;: &quot;evenodd&quot;, &quot;lineCap&quot;: &quot;round&quot;, &quot;lineJoin&quot;: &quot;round&quot;, &quot;noClip&quot;: false, &quot;opacity&quot;: 1.0, &quot;smoothFactor&quot;: 1.0, &quot;stroke&quot;: true, &quot;weight&quot;: 3}\n",
       "            ).addTo(map_f545bd3a7deabaf08b590dd79c64ab43);\n",
       "        \n",
       "    \n",
       "            var poly_line_819d2fc30926881cbf6c66bdd791fe5a = L.polyline(\n",
       "                [[-0.08419422, 34.76938705333334], [0.025107366666666665, 37.077327133333334]],\n",
       "                {&quot;bubblingMouseEvents&quot;: true, &quot;color&quot;: &quot;#3388ff&quot;, &quot;dashArray&quot;: null, &quot;dashOffset&quot;: null, &quot;fill&quot;: false, &quot;fillColor&quot;: &quot;#3388ff&quot;, &quot;fillOpacity&quot;: 0.2, &quot;fillRule&quot;: &quot;evenodd&quot;, &quot;lineCap&quot;: &quot;round&quot;, &quot;lineJoin&quot;: &quot;round&quot;, &quot;noClip&quot;: false, &quot;opacity&quot;: 1.0, &quot;smoothFactor&quot;: 1.0, &quot;stroke&quot;: true, &quot;weight&quot;: 3}\n",
       "            ).addTo(map_f545bd3a7deabaf08b590dd79c64ab43);\n",
       "        \n",
       "    \n",
       "            var poly_line_76ec3a6a9748ff3b4863d5b6880a20f6 = L.polyline(\n",
       "                [[0.025107366666666665, 37.077327133333334], [0.0446891, 37.6479828]],\n",
       "                {&quot;bubblingMouseEvents&quot;: true, &quot;color&quot;: &quot;#3388ff&quot;, &quot;dashArray&quot;: null, &quot;dashOffset&quot;: null, &quot;fill&quot;: false, &quot;fillColor&quot;: &quot;#3388ff&quot;, &quot;fillOpacity&quot;: 0.2, &quot;fillRule&quot;: &quot;evenodd&quot;, &quot;lineCap&quot;: &quot;round&quot;, &quot;lineJoin&quot;: &quot;round&quot;, &quot;noClip&quot;: false, &quot;opacity&quot;: 1.0, &quot;smoothFactor&quot;: 1.0, &quot;stroke&quot;: true, &quot;weight&quot;: 3}\n",
       "            ).addTo(map_f545bd3a7deabaf08b590dd79c64ab43);\n",
       "        \n",
       "&lt;/script&gt;\" style=\"position:absolute;width:100%;height:100%;left:0;top:0;border:none !important;\" allowfullscreen webkitallowfullscreen mozallowfullscreen></iframe></div></div>"
      ],
      "text/plain": [
       "<folium.folium.Map at 0x7f07ef007d00>"
      ]
     },
     "execution_count": 73,
     "metadata": {},
     "output_type": "execute_result"
    }
   ],
   "source": [
    "m2"
   ]
  },
  {
   "cell_type": "code",
   "execution_count": 32,
   "id": "9d9ccbf6",
   "metadata": {},
   "outputs": [
    {
     "data": {
      "text/plain": [
       "1289.7827535618067"
      ]
     },
     "execution_count": 32,
     "metadata": {},
     "output_type": "execute_result"
    }
   ],
   "source": [
    "total_distance"
   ]
  },
  {
   "cell_type": "code",
   "execution_count": 74,
   "id": "d41a3ea0",
   "metadata": {},
   "outputs": [],
   "source": [
    "tree = {location6: [[location2, distance(location6,location2).km]],\n",
    "        location2: [[location1, distance(location2,location1).km], [location6, distance(location2,location6).km]],\n",
    "        location1: [[location7, distance(location1,location7).km], [location2, distance(location1,location2).km]],\n",
    "        location7: [[location5, distance(location7,location5).km], [location1, distance(location7,location1).km]],\n",
    "        location5: [[location8, distance(location5,location8).km], [location3, distance(location5,location3).km], [location7, distance(location5, location7).km]],\n",
    "        location3: [[location4, distance(location3,location4).km], [location5, distance(location3,location5).km]],\n",
    "       location4: [[location3, distance(location4,location3).km]],\n",
    "       location8: [[location9, distance(location8,location9).km], [location5, distance(location8,location5).km]],\n",
    "        location9: [[location10, distance(location9,location10).km], [location8, distance(location9,location8).km]]}"
   ]
  },
  {
   "cell_type": "code",
   "execution_count": 75,
   "id": "498692f0",
   "metadata": {},
   "outputs": [
    {
     "data": {
      "text/plain": [
       "{(-3.2315438,\n",
       "  40.102555): [[(-4.058193604347826, 39.67314489347826), 103.10948642544156]],\n",
       " (-4.058193604347826,\n",
       "  39.67314489347826): [[(-1.2580146872727274, 36.839471896363634),\n",
       "   441.7530931211737],\n",
       "  [(-3.2315438, 40.102555), 103.10948642544156]],\n",
       " (-1.2580146872727274,\n",
       "  36.839471896363634): [[(-1.05904065, 37.1054561),\n",
       "   36.88380981283413], [(-4.058193604347826,\n",
       "    39.67314489347826), 441.7530931211737]],\n",
       " (-1.05904065,\n",
       "  37.1054561): [[(-0.4180221230769231, 36.96838922307692),\n",
       "   72.50370405770244], [(-1.2580146872727274, 36.839471896363634),\n",
       "   36.88380981283413]],\n",
       " (-0.4180221230769231,\n",
       "  36.96838922307692): [[(-0.34552775, 36.1421234),\n",
       "   92.3261013752753], [(0.025107366666666665,\n",
       "    37.077327133333334), 50.47707571138219], [(-1.05904065, 37.1054561),\n",
       "   72.50370405770244]],\n",
       " (0.025107366666666665,\n",
       "  37.077327133333334): [[(0.0446891, 37.6479828),\n",
       "   63.56197626036164], [(-0.4180221230769231,\n",
       "    36.96838922307692), 50.47707571138219]],\n",
       " (0.0446891,\n",
       "  37.6479828): [[(0.025107366666666665, 37.077327133333334),\n",
       "   63.56197626036164]],\n",
       " (-0.34552775,\n",
       "  36.1421234): [[(0.5148679911764705, 35.27678507352941),\n",
       "   135.38929319421817], [(-0.4180221230769231, 36.96838922307692),\n",
       "   92.3261013752753]],\n",
       " (0.5148679911764705,\n",
       "  35.27678507352941): [[(-0.08419422, 34.76938705333334),\n",
       "   87.0525316046248], [(-0.34552775, 36.1421234), 135.38929319421817]]}"
      ]
     },
     "execution_count": 75,
     "metadata": {},
     "output_type": "execute_result"
    }
   ],
   "source": [
    "tree"
   ]
  },
  {
   "cell_type": "code",
   "execution_count": 76,
   "id": "98ee0974",
   "metadata": {},
   "outputs": [],
   "source": [
    "heuristic = {location1: distance(location1,location10).km,\n",
    "             location2: distance(location2,location10).km,\n",
    "             location3: distance(location3,location10).km,\n",
    "             location4: distance(location4,location10).km,\n",
    "             location5: distance(location5,location10).km,\n",
    "             location6: distance(location6,location10).km,\n",
    "             location7: distance(location7,location10).km,\n",
    "             location8: distance(location8,location10).km,\n",
    "             location9: distance(location9,location10).km,\n",
    "             location10: 0\n",
    "            }"
   ]
  },
  {
   "cell_type": "code",
   "execution_count": 77,
   "id": "ebe2acc1",
   "metadata": {},
   "outputs": [
    {
     "data": {
      "text/plain": [
       "{(-1.2580146872727274, 36.839471896363634): 264.46267493103164,\n",
       " (-4.058193604347826, 39.67314489347826): 700.4153628351753,\n",
       " (0.025107366666666665, 37.077327133333334): 257.2027577101748,\n",
       " (0.0446891, 37.6479828): 320.7604684208931,\n",
       " (-0.4180221230769231, 36.96838922307692): 247.55659604300078,\n",
       " (-3.2315438, 40.102555): 687.8944488198284,\n",
       " (-1.05904065, 37.1054561): 281.4907636723767,\n",
       " (-0.34552775, 36.1421234): 155.51932146094242,\n",
       " (0.5148679911764705, 35.27678507352941): 87.0525316046248,\n",
       " (-0.08419422, 34.76938705333334): 0}"
      ]
     },
     "execution_count": 77,
     "metadata": {},
     "output_type": "execute_result"
    }
   ],
   "source": [
    "heuristic"
   ]
  },
  {
   "cell_type": "code",
   "execution_count": 78,
   "id": "7694479b",
   "metadata": {},
   "outputs": [],
   "source": [
    "cost = {location6: 0}  \n",
    "def AStarSearch():\n",
    "    global tree, heuristic\n",
    "    closed = []             # closed nodes\n",
    "    opened = [[location6, distance(location6,location10).km]]     # opened nodes\n",
    "\n",
    "    '''find the visited nodes'''\n",
    "    while True:\n",
    "        fn = [i[1] for i in opened]     # fn = f(n) = g(n) + h(n)\n",
    "        chosen_index = fn.index(min(fn))\n",
    "        node = opened[chosen_index][0]  # current node\n",
    "        closed.append(opened[chosen_index])\n",
    "        del opened[chosen_index]\n",
    "        if closed[-1][0] == location10:        # break the loop if node G has been found\n",
    "            break\n",
    "        for item in tree[node]:\n",
    "            if item[0] in [closed_item[0] for closed_item in closed]:\n",
    "                continue\n",
    "            cost.update({item[0]: cost[node] + item[1]})            # add nodes to cost dictionary\n",
    "            fn_node = cost[node] + heuristic[item[0]] + item[1]     # calculate f(n) of current node\n",
    "            temp = [item[0], fn_node]\n",
    "            opened.append(temp)                                     # store f(n) of current node in array opened\n",
    "\n",
    "    '''find optimal sequence'''\n",
    "    trace_node = location10                       # correct optimal tracing node, initialize as node G\n",
    "    optimal_sequence = [location10]                # optimal node sequence\n",
    "    for i in range(len(closed)-2, -1, -1):\n",
    "        check_node = closed[i][0]           # current node\n",
    "        if trace_node in [children[0] for children in tree[check_node]]:\n",
    "            children_costs = [temp[1] for temp in tree[check_node]]\n",
    "            children_nodes = [temp[0] for temp in tree[check_node]]\n",
    "\n",
    "            '''check whether h(s) + g(s) = f(s). If so, append current node to optimal sequence\n",
    "            change the correct optimal tracing node to current node'''\n",
    "            if cost[check_node] + children_costs[children_nodes.index(trace_node)] == cost[trace_node]:\n",
    "                optimal_sequence.append(check_node)\n",
    "                trace_node = check_node\n",
    "    optimal_sequence.reverse()              # reverse the optimal sequence\n",
    "\n",
    "    return closed, optimal_sequence"
   ]
  },
  {
   "cell_type": "code",
   "execution_count": 79,
   "id": "0f954bf8",
   "metadata": {},
   "outputs": [
    {
     "name": "stdout",
     "output_type": "stream",
     "text": [
      "visited nodes: [[(-3.2315438, 40.102555), 687.8944488198284], [(-4.058193604347826, 39.67314489347826), 803.5248492606169], [(-1.2580146872727274, 36.839471896363634), 809.3252544776469], [(-1.05904065, 37.1054561), 863.2371530318261], [(-0.4180221230769231, 36.96838922307692), 901.8066894601526], [(-0.34552775, 36.1421234), 902.0955162533696], [(0.025107366666666665, 37.077327133333334), 961.9299268387088], [(0.5148679911764705, 35.27678507352941), 969.0180195912701], [(-0.08419422, 34.76938705333334), 969.0180195912701]]\n",
      "optimal nodes sequence: [(-3.2315438, 40.102555), (-4.058193604347826, 39.67314489347826), (-1.2580146872727274, 36.839471896363634), (-1.05904065, 37.1054561), (-0.4180221230769231, 36.96838922307692), (-0.34552775, 36.1421234), (0.5148679911764705, 35.27678507352941), (-0.08419422, 34.76938705333334)]\n"
     ]
    }
   ],
   "source": [
    "    visited_nodes, optimal_nodes = AStarSearch()\n",
    "    print('visited nodes: ' + str(visited_nodes))\n",
    "    print('optimal nodes sequence: ' + str(optimal_nodes))"
   ]
  },
  {
   "cell_type": "code",
   "execution_count": 80,
   "id": "14758589",
   "metadata": {},
   "outputs": [
    {
     "data": {
      "text/plain": [
       "[(-3.2315438, 40.102555),\n",
       " (-4.058193604347826, 39.67314489347826),\n",
       " (-1.2580146872727274, 36.839471896363634),\n",
       " (-1.05904065, 37.1054561),\n",
       " (-0.4180221230769231, 36.96838922307692),\n",
       " (-0.34552775, 36.1421234),\n",
       " (0.5148679911764705, 35.27678507352941),\n",
       " (-0.08419422, 34.76938705333334)]"
      ]
     },
     "execution_count": 80,
     "metadata": {},
     "output_type": "execute_result"
    }
   ],
   "source": [
    "optimal_nodes"
   ]
  },
  {
   "cell_type": "code",
   "execution_count": 81,
   "id": "97480e42",
   "metadata": {},
   "outputs": [],
   "source": [
    "a_star_length = len(optimal_nodes)\n",
    "\n",
    "total_distance = 0\n",
    "\n",
    "for i in range(a_star_length - 1):\n",
    "    total_distance += distance(optimal_nodes[i], optimal_nodes[i+1]).km\n",
    "    folium.PolyLine((optimal_nodes[i], optimal_nodes[i+1])).add_to(m3)"
   ]
  },
  {
   "cell_type": "code",
   "execution_count": 82,
   "id": "7f6a30ec",
   "metadata": {},
   "outputs": [
    {
     "data": {
      "text/plain": [
       "969.0180195912701"
      ]
     },
     "execution_count": 82,
     "metadata": {},
     "output_type": "execute_result"
    }
   ],
   "source": [
    "total_distance"
   ]
  },
  {
   "cell_type": "code",
   "execution_count": 83,
   "id": "93ddba6b",
   "metadata": {
    "scrolled": true
   },
   "outputs": [
    {
     "data": {
      "text/html": [
       "<div style=\"width:100%;\"><div style=\"position:relative;width:100%;height:0;padding-bottom:60%;\"><span style=\"color:#565656\">Make this Notebook Trusted to load map: File -> Trust Notebook</span><iframe srcdoc=\"&lt;!DOCTYPE html&gt;\n",
       "&lt;head&gt;    \n",
       "    &lt;meta http-equiv=&quot;content-type&quot; content=&quot;text/html; charset=UTF-8&quot; /&gt;\n",
       "    \n",
       "        &lt;script&gt;\n",
       "            L_NO_TOUCH = false;\n",
       "            L_DISABLE_3D = false;\n",
       "        &lt;/script&gt;\n",
       "    \n",
       "    &lt;style&gt;html, body {width: 100%;height: 100%;margin: 0;padding: 0;}&lt;/style&gt;\n",
       "    &lt;style&gt;#map {position:absolute;top:0;bottom:0;right:0;left:0;}&lt;/style&gt;\n",
       "    &lt;script src=&quot;https://cdn.jsdelivr.net/npm/leaflet@1.6.0/dist/leaflet.js&quot;&gt;&lt;/script&gt;\n",
       "    &lt;script src=&quot;https://code.jquery.com/jquery-1.12.4.min.js&quot;&gt;&lt;/script&gt;\n",
       "    &lt;script src=&quot;https://maxcdn.bootstrapcdn.com/bootstrap/3.2.0/js/bootstrap.min.js&quot;&gt;&lt;/script&gt;\n",
       "    &lt;script src=&quot;https://cdnjs.cloudflare.com/ajax/libs/Leaflet.awesome-markers/2.0.2/leaflet.awesome-markers.js&quot;&gt;&lt;/script&gt;\n",
       "    &lt;link rel=&quot;stylesheet&quot; href=&quot;https://cdn.jsdelivr.net/npm/leaflet@1.6.0/dist/leaflet.css&quot;/&gt;\n",
       "    &lt;link rel=&quot;stylesheet&quot; href=&quot;https://maxcdn.bootstrapcdn.com/bootstrap/3.2.0/css/bootstrap.min.css&quot;/&gt;\n",
       "    &lt;link rel=&quot;stylesheet&quot; href=&quot;https://maxcdn.bootstrapcdn.com/bootstrap/3.2.0/css/bootstrap-theme.min.css&quot;/&gt;\n",
       "    &lt;link rel=&quot;stylesheet&quot; href=&quot;https://maxcdn.bootstrapcdn.com/font-awesome/4.6.3/css/font-awesome.min.css&quot;/&gt;\n",
       "    &lt;link rel=&quot;stylesheet&quot; href=&quot;https://cdnjs.cloudflare.com/ajax/libs/Leaflet.awesome-markers/2.0.2/leaflet.awesome-markers.css&quot;/&gt;\n",
       "    &lt;link rel=&quot;stylesheet&quot; href=&quot;https://cdn.jsdelivr.net/gh/python-visualization/folium/folium/templates/leaflet.awesome.rotate.min.css&quot;/&gt;\n",
       "    \n",
       "            &lt;meta name=&quot;viewport&quot; content=&quot;width=device-width,\n",
       "                initial-scale=1.0, maximum-scale=1.0, user-scalable=no&quot; /&gt;\n",
       "            &lt;style&gt;\n",
       "                #map_32561ce4c2451ff90649ee008a056226 {\n",
       "                    position: relative;\n",
       "                    width: 800.0px;\n",
       "                    height: 400.0px;\n",
       "                    left: 0.0%;\n",
       "                    top: 0.0%;\n",
       "                }\n",
       "            &lt;/style&gt;\n",
       "        \n",
       "&lt;/head&gt;\n",
       "&lt;body&gt;    \n",
       "    \n",
       "            &lt;div class=&quot;folium-map&quot; id=&quot;map_32561ce4c2451ff90649ee008a056226&quot; &gt;&lt;/div&gt;\n",
       "        \n",
       "&lt;/body&gt;\n",
       "&lt;script&gt;    \n",
       "    \n",
       "            var map_32561ce4c2451ff90649ee008a056226 = L.map(\n",
       "                &quot;map_32561ce4c2451ff90649ee008a056226&quot;,\n",
       "                {\n",
       "                    center: [-1.2580146872727274, 36.839471896363634],\n",
       "                    crs: L.CRS.EPSG3857,\n",
       "                    zoom: 10,\n",
       "                    zoomControl: true,\n",
       "                    preferCanvas: false,\n",
       "                }\n",
       "            );\n",
       "\n",
       "            \n",
       "\n",
       "        \n",
       "    \n",
       "            var tile_layer_d7d5b5fe358cae6743198df304add2d7 = L.tileLayer(\n",
       "                &quot;https://{s}.tile.openstreetmap.org/{z}/{x}/{y}.png&quot;,\n",
       "                {&quot;attribution&quot;: &quot;Data by \\u0026copy; \\u003ca href=\\&quot;http://openstreetmap.org\\&quot;\\u003eOpenStreetMap\\u003c/a\\u003e, under \\u003ca href=\\&quot;http://www.openstreetmap.org/copyright\\&quot;\\u003eODbL\\u003c/a\\u003e.&quot;, &quot;detectRetina&quot;: false, &quot;maxNativeZoom&quot;: 18, &quot;maxZoom&quot;: 18, &quot;minZoom&quot;: 0, &quot;noWrap&quot;: false, &quot;opacity&quot;: 1, &quot;subdomains&quot;: &quot;abc&quot;, &quot;tms&quot;: false}\n",
       "            ).addTo(map_32561ce4c2451ff90649ee008a056226);\n",
       "        \n",
       "    \n",
       "            var marker_e7f700f705c801b005f740f333545762 = L.marker(\n",
       "                [-1.2580146872727274, 36.839471896363634],\n",
       "                {}\n",
       "            ).addTo(map_32561ce4c2451ff90649ee008a056226);\n",
       "        \n",
       "    \n",
       "            var marker_da232fe746de101f272d9bf38249b0ff = L.marker(\n",
       "                [-4.058193604347826, 39.67314489347826],\n",
       "                {}\n",
       "            ).addTo(map_32561ce4c2451ff90649ee008a056226);\n",
       "        \n",
       "    \n",
       "            var marker_858fe102ffb5454973a1e9c58886689e = L.marker(\n",
       "                [0.025107366666666665, 37.077327133333334],\n",
       "                {}\n",
       "            ).addTo(map_32561ce4c2451ff90649ee008a056226);\n",
       "        \n",
       "    \n",
       "            var marker_096ee71922c36bfbd665bd96b07b6e80 = L.marker(\n",
       "                [0.0446891, 37.6479828],\n",
       "                {}\n",
       "            ).addTo(map_32561ce4c2451ff90649ee008a056226);\n",
       "        \n",
       "    \n",
       "            var marker_418b928d6b54370d2941ecf952ec03d1 = L.marker(\n",
       "                [-0.4180221230769231, 36.96838922307692],\n",
       "                {}\n",
       "            ).addTo(map_32561ce4c2451ff90649ee008a056226);\n",
       "        \n",
       "    \n",
       "            var marker_d78f248fce4c537464ecc1511109d0ac = L.marker(\n",
       "                [-3.2315438, 40.102555],\n",
       "                {}\n",
       "            ).addTo(map_32561ce4c2451ff90649ee008a056226);\n",
       "        \n",
       "    \n",
       "            var marker_83b67cba4ac08d4aaa136303779b06ec = L.marker(\n",
       "                [-1.05904065, 37.1054561],\n",
       "                {}\n",
       "            ).addTo(map_32561ce4c2451ff90649ee008a056226);\n",
       "        \n",
       "    \n",
       "            var marker_b6139938a32cf84d44bb8c7ae29db25e = L.marker(\n",
       "                [-0.34552775, 36.1421234],\n",
       "                {}\n",
       "            ).addTo(map_32561ce4c2451ff90649ee008a056226);\n",
       "        \n",
       "    \n",
       "            var marker_91840801178da984d77be1701faae150 = L.marker(\n",
       "                [0.5148679911764705, 35.27678507352941],\n",
       "                {}\n",
       "            ).addTo(map_32561ce4c2451ff90649ee008a056226);\n",
       "        \n",
       "    \n",
       "            var marker_94a6925599d6196515d40459f63db663 = L.marker(\n",
       "                [-0.08419422, 34.76938705333334],\n",
       "                {}\n",
       "            ).addTo(map_32561ce4c2451ff90649ee008a056226);\n",
       "        \n",
       "    \n",
       "            var poly_line_e54e6e3a8b0a7db2d072ac7b1fe81ebd = L.polyline(\n",
       "                [[-3.2315438, 40.102555], [-4.058193604347826, 39.67314489347826]],\n",
       "                {&quot;bubblingMouseEvents&quot;: true, &quot;color&quot;: &quot;#3388ff&quot;, &quot;dashArray&quot;: null, &quot;dashOffset&quot;: null, &quot;fill&quot;: false, &quot;fillColor&quot;: &quot;#3388ff&quot;, &quot;fillOpacity&quot;: 0.2, &quot;fillRule&quot;: &quot;evenodd&quot;, &quot;lineCap&quot;: &quot;round&quot;, &quot;lineJoin&quot;: &quot;round&quot;, &quot;noClip&quot;: false, &quot;opacity&quot;: 1.0, &quot;smoothFactor&quot;: 1.0, &quot;stroke&quot;: true, &quot;weight&quot;: 3}\n",
       "            ).addTo(map_32561ce4c2451ff90649ee008a056226);\n",
       "        \n",
       "    \n",
       "            var poly_line_5206950a794403f4c11216af3a9f4762 = L.polyline(\n",
       "                [[-4.058193604347826, 39.67314489347826], [-1.2580146872727274, 36.839471896363634]],\n",
       "                {&quot;bubblingMouseEvents&quot;: true, &quot;color&quot;: &quot;#3388ff&quot;, &quot;dashArray&quot;: null, &quot;dashOffset&quot;: null, &quot;fill&quot;: false, &quot;fillColor&quot;: &quot;#3388ff&quot;, &quot;fillOpacity&quot;: 0.2, &quot;fillRule&quot;: &quot;evenodd&quot;, &quot;lineCap&quot;: &quot;round&quot;, &quot;lineJoin&quot;: &quot;round&quot;, &quot;noClip&quot;: false, &quot;opacity&quot;: 1.0, &quot;smoothFactor&quot;: 1.0, &quot;stroke&quot;: true, &quot;weight&quot;: 3}\n",
       "            ).addTo(map_32561ce4c2451ff90649ee008a056226);\n",
       "        \n",
       "    \n",
       "            var poly_line_da82f1a22c74fff17514562b0fb7c562 = L.polyline(\n",
       "                [[-1.2580146872727274, 36.839471896363634], [-1.05904065, 37.1054561]],\n",
       "                {&quot;bubblingMouseEvents&quot;: true, &quot;color&quot;: &quot;#3388ff&quot;, &quot;dashArray&quot;: null, &quot;dashOffset&quot;: null, &quot;fill&quot;: false, &quot;fillColor&quot;: &quot;#3388ff&quot;, &quot;fillOpacity&quot;: 0.2, &quot;fillRule&quot;: &quot;evenodd&quot;, &quot;lineCap&quot;: &quot;round&quot;, &quot;lineJoin&quot;: &quot;round&quot;, &quot;noClip&quot;: false, &quot;opacity&quot;: 1.0, &quot;smoothFactor&quot;: 1.0, &quot;stroke&quot;: true, &quot;weight&quot;: 3}\n",
       "            ).addTo(map_32561ce4c2451ff90649ee008a056226);\n",
       "        \n",
       "    \n",
       "            var poly_line_0022875f2571ff06d6feefd498c1d4ca = L.polyline(\n",
       "                [[-1.05904065, 37.1054561], [-0.4180221230769231, 36.96838922307692]],\n",
       "                {&quot;bubblingMouseEvents&quot;: true, &quot;color&quot;: &quot;#3388ff&quot;, &quot;dashArray&quot;: null, &quot;dashOffset&quot;: null, &quot;fill&quot;: false, &quot;fillColor&quot;: &quot;#3388ff&quot;, &quot;fillOpacity&quot;: 0.2, &quot;fillRule&quot;: &quot;evenodd&quot;, &quot;lineCap&quot;: &quot;round&quot;, &quot;lineJoin&quot;: &quot;round&quot;, &quot;noClip&quot;: false, &quot;opacity&quot;: 1.0, &quot;smoothFactor&quot;: 1.0, &quot;stroke&quot;: true, &quot;weight&quot;: 3}\n",
       "            ).addTo(map_32561ce4c2451ff90649ee008a056226);\n",
       "        \n",
       "    \n",
       "            var poly_line_19b59533b5387896ab0bf0da037f9891 = L.polyline(\n",
       "                [[-0.4180221230769231, 36.96838922307692], [-0.34552775, 36.1421234]],\n",
       "                {&quot;bubblingMouseEvents&quot;: true, &quot;color&quot;: &quot;#3388ff&quot;, &quot;dashArray&quot;: null, &quot;dashOffset&quot;: null, &quot;fill&quot;: false, &quot;fillColor&quot;: &quot;#3388ff&quot;, &quot;fillOpacity&quot;: 0.2, &quot;fillRule&quot;: &quot;evenodd&quot;, &quot;lineCap&quot;: &quot;round&quot;, &quot;lineJoin&quot;: &quot;round&quot;, &quot;noClip&quot;: false, &quot;opacity&quot;: 1.0, &quot;smoothFactor&quot;: 1.0, &quot;stroke&quot;: true, &quot;weight&quot;: 3}\n",
       "            ).addTo(map_32561ce4c2451ff90649ee008a056226);\n",
       "        \n",
       "    \n",
       "            var poly_line_2de452f8f67bed4c3c3e19a2f07605d4 = L.polyline(\n",
       "                [[-0.34552775, 36.1421234], [0.5148679911764705, 35.27678507352941]],\n",
       "                {&quot;bubblingMouseEvents&quot;: true, &quot;color&quot;: &quot;#3388ff&quot;, &quot;dashArray&quot;: null, &quot;dashOffset&quot;: null, &quot;fill&quot;: false, &quot;fillColor&quot;: &quot;#3388ff&quot;, &quot;fillOpacity&quot;: 0.2, &quot;fillRule&quot;: &quot;evenodd&quot;, &quot;lineCap&quot;: &quot;round&quot;, &quot;lineJoin&quot;: &quot;round&quot;, &quot;noClip&quot;: false, &quot;opacity&quot;: 1.0, &quot;smoothFactor&quot;: 1.0, &quot;stroke&quot;: true, &quot;weight&quot;: 3}\n",
       "            ).addTo(map_32561ce4c2451ff90649ee008a056226);\n",
       "        \n",
       "    \n",
       "            var poly_line_443ec2324b11650143e91253d6a3de1d = L.polyline(\n",
       "                [[0.5148679911764705, 35.27678507352941], [-0.08419422, 34.76938705333334]],\n",
       "                {&quot;bubblingMouseEvents&quot;: true, &quot;color&quot;: &quot;#3388ff&quot;, &quot;dashArray&quot;: null, &quot;dashOffset&quot;: null, &quot;fill&quot;: false, &quot;fillColor&quot;: &quot;#3388ff&quot;, &quot;fillOpacity&quot;: 0.2, &quot;fillRule&quot;: &quot;evenodd&quot;, &quot;lineCap&quot;: &quot;round&quot;, &quot;lineJoin&quot;: &quot;round&quot;, &quot;noClip&quot;: false, &quot;opacity&quot;: 1.0, &quot;smoothFactor&quot;: 1.0, &quot;stroke&quot;: true, &quot;weight&quot;: 3}\n",
       "            ).addTo(map_32561ce4c2451ff90649ee008a056226);\n",
       "        \n",
       "&lt;/script&gt;\" style=\"position:absolute;width:100%;height:100%;left:0;top:0;border:none !important;\" allowfullscreen webkitallowfullscreen mozallowfullscreen></iframe></div></div>"
      ],
      "text/plain": [
       "<folium.folium.Map at 0x7f07eefdee20>"
      ]
     },
     "execution_count": 83,
     "metadata": {},
     "output_type": "execute_result"
    }
   ],
   "source": [
    "m3"
   ]
  },
  {
   "cell_type": "code",
   "execution_count": null,
   "id": "12150976",
   "metadata": {},
   "outputs": [],
   "source": []
  }
 ],
 "metadata": {
  "kernelspec": {
   "display_name": "Python 3 (ipykernel)",
   "language": "python",
   "name": "python3"
  },
  "language_info": {
   "codemirror_mode": {
    "name": "ipython",
    "version": 3
   },
   "file_extension": ".py",
   "mimetype": "text/x-python",
   "name": "python",
   "nbconvert_exporter": "python",
   "pygments_lexer": "ipython3",
   "version": "3.8.10"
  }
 },
 "nbformat": 4,
 "nbformat_minor": 5
}
